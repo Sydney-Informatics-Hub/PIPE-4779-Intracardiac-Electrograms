{
 "cells": [
  {
   "cell_type": "markdown",
   "metadata": {},
   "source": [
    "# Feature Extraction and Selection\n",
    "Env: \n",
    "- pandas\n",
    "- numpy\n",
    "- pyarrow\n",
    "- tsfresh\n",
    "- matplotlib"
   ]
  },
  {
   "cell_type": "code",
   "execution_count": 2,
   "metadata": {},
   "outputs": [
    {
     "name": "stderr",
     "output_type": "stream",
     "text": [
      "/Users/seb/mambaforge/envs/ecg/lib/python3.11/site-packages/dask/dataframe/utils.py:367: FutureWarning: pandas.Int64Index is deprecated and will be removed from pandas in a future version. Use pandas.Index with the appropriate dtype instead.\n",
      "  _numeric_index_types = (pd.Int64Index, pd.Float64Index, pd.UInt64Index)\n",
      "/Users/seb/mambaforge/envs/ecg/lib/python3.11/site-packages/dask/dataframe/utils.py:367: FutureWarning: pandas.Float64Index is deprecated and will be removed from pandas in a future version. Use pandas.Index with the appropriate dtype instead.\n",
      "  _numeric_index_types = (pd.Int64Index, pd.Float64Index, pd.UInt64Index)\n",
      "/Users/seb/mambaforge/envs/ecg/lib/python3.11/site-packages/dask/dataframe/utils.py:367: FutureWarning: pandas.UInt64Index is deprecated and will be removed from pandas in a future version. Use pandas.Index with the appropriate dtype instead.\n",
      "  _numeric_index_types = (pd.Int64Index, pd.Float64Index, pd.UInt64Index)\n"
     ]
    }
   ],
   "source": [
    "# Exploratory analysis of ECG\n",
    "\n",
    "import os\n",
    "import pandas as pd\n",
    "import numpy as np\n",
    "from tsfresh import extract_features\n",
    "from tsfresh import select_features\n",
    "from tsfresh.utilities.dataframe_functions import impute\n",
    "import matplotlib.pyplot as plt\n",
    "\n",
    "wavefront = 'SR' # select from: LVp, RVp, or SR\n",
    "outpath = '../../../data/features'\n",
    "\n",
    "inpath = '../../../data/generated'\n",
    "fname_csv = 'NestedDataS18.csv'\n",
    "#fname_par = 'NestedDataS18.parquet'\n",
    "#fname20_csv = 'NestedDataS20.csv'\n",
    "#fname20_par = 'NestedDataS20.parquet'"
   ]
  },
  {
   "cell_type": "markdown",
   "metadata": {},
   "source": [
    "### Pre-processing"
   ]
  },
  {
   "cell_type": "code",
   "execution_count": 4,
   "metadata": {},
   "outputs": [],
   "source": [
    "# read df only with selected columns\n",
    "usecols = [\n",
    "    'Point_Number',\n",
    "    'WaveFront',\n",
    "    'sheep',\n",
    "    'signal_data',\n",
    "    'endocardium_scar',\n",
    "    'intramural_scar',\n",
    "    'epicardial_scar',\n",
    "]\n",
    "df = pd.read_csv(os.path.join(inpath, fname_csv), usecols=usecols)\n",
    "# remove nan values\n",
    "df = df.dropna()"
   ]
  },
  {
   "cell_type": "code",
   "execution_count": 5,
   "metadata": {},
   "outputs": [],
   "source": [
    "# add column \"time\" to df which starts at 0 and has the same length as \"signal_data\" for each Point_Number and WaveFront\n",
    "df['time'] = df.groupby(['Point_Number', 'WaveFront']).cumcount()"
   ]
  },
  {
   "cell_type": "code",
   "execution_count": 6,
   "metadata": {},
   "outputs": [],
   "source": [
    "# Generate a column 'scar' that is 1 if either of the scar columns is 1, otherwise 0\n",
    "df['endocardium_scar'] = df['endocardium_scar'].astype(int)\n",
    "df['intramural_scar'] = df['intramural_scar'].astype(int)\n",
    "df['epicardial_scar'] = df['epicardial_scar'].astype(int)\n",
    "df['scar'] = df[['endocardium_scar', 'intramural_scar', 'epicardial_scar']].max(axis=1)"
   ]
  },
  {
   "cell_type": "code",
   "execution_count": 7,
   "metadata": {},
   "outputs": [],
   "source": [
    "# select wavefront\n",
    "df_wf = df[df['WaveFront'] == wavefront]"
   ]
  },
  {
   "cell_type": "code",
   "execution_count": 8,
   "metadata": {},
   "outputs": [],
   "source": [
    "# generate timeseries and y\n",
    "timeseries = df_wf[['Point_Number', 'time', 'signal_data']]\n",
    "\n",
    "# get the scar value for each point\n",
    "y = df_wf[['Point_Number', 'scar']].drop_duplicates()\n",
    "# set y to  pandas.Series\n",
    "y = y.set_index('Point_Number')['scar']\n"
   ]
  },
  {
   "cell_type": "code",
   "execution_count": 9,
   "metadata": {},
   "outputs": [
    {
     "data": {
      "image/png": "[encoded data removed]",
      "text/plain": [
       "<Figure size 640x480 with 1 Axes>"
      ]
     },
     "metadata": {},
     "output_type": "display_data"
    }
   ],
   "source": [
    "# plot signal data bs time for first point\n",
    "point_numbers = timeseries['Point_Number'].unique()\n",
    "timeseries[timeseries['Point_Number'] == point_numbers[0]].plot(x='time', y='signal_data')\n",
    "plt.show()"
   ]
  },
  {
   "cell_type": "markdown",
   "metadata": {},
   "source": [
    "### Extract Features"
   ]
  },
  {
   "cell_type": "code",
   "execution_count": 10,
   "metadata": {},
   "outputs": [
    {
     "name": "stderr",
     "output_type": "stream",
     "text": [
      "Feature Extraction:   0%|          | 0/25 [00:00<?, ?it/s]/Users/seb/mambaforge/envs/ecg/lib/python3.11/site-packages/dask/dataframe/utils.py:367: FutureWarning: pandas.Int64Index is deprecated and will be removed from pandas in a future version. Use pandas.Index with the appropriate dtype instead.\n",
      "  _numeric_index_types = (pd.Int64Index, pd.Float64Index, pd.UInt64Index)\n",
      "/Users/seb/mambaforge/envs/ecg/lib/python3.11/site-packages/dask/dataframe/utils.py:367: FutureWarning: pandas.Float64Index is deprecated and will be removed from pandas in a future version. Use pandas.Index with the appropriate dtype instead.\n",
      "  _numeric_index_types = (pd.Int64Index, pd.Float64Index, pd.UInt64Index)\n",
      "/Users/seb/mambaforge/envs/ecg/lib/python3.11/site-packages/dask/dataframe/utils.py:367: FutureWarning: pandas.UInt64Index is deprecated and will be removed from pandas in a future version. Use pandas.Index with the appropriate dtype instead.\n",
      "  _numeric_index_types = (pd.Int64Index, pd.Float64Index, pd.UInt64Index)\n",
      "/Users/seb/mambaforge/envs/ecg/lib/python3.11/site-packages/dask/dataframe/utils.py:367: FutureWarning: pandas.Int64Index is deprecated and will be removed from pandas in a future version. Use pandas.Index with the appropriate dtype instead.\n",
      "  _numeric_index_types = (pd.Int64Index, pd.Float64Index, pd.UInt64Index)\n",
      "/Users/seb/mambaforge/envs/ecg/lib/python3.11/site-packages/dask/dataframe/utils.py:367: FutureWarning: pandas.Float64Index is deprecated and will be removed from pandas in a future version. Use pandas.Index with the appropriate dtype instead.\n",
      "  _numeric_index_types = (pd.Int64Index, pd.Float64Index, pd.UInt64Index)\n",
      "/Users/seb/mambaforge/envs/ecg/lib/python3.11/site-packages/dask/dataframe/utils.py:367: FutureWarning: pandas.UInt64Index is deprecated and will be removed from pandas in a future version. Use pandas.Index with the appropriate dtype instead.\n",
      "  _numeric_index_types = (pd.Int64Index, pd.Float64Index, pd.UInt64Index)\n",
      "/Users/seb/mambaforge/envs/ecg/lib/python3.11/site-packages/dask/dataframe/utils.py:367: FutureWarning: pandas.Int64Index is deprecated and will be removed from pandas in a future version. Use pandas.Index with the appropriate dtype instead.\n",
      "  _numeric_index_types = (pd.Int64Index, pd.Float64Index, pd.UInt64Index)\n",
      "/Users/seb/mambaforge/envs/ecg/lib/python3.11/site-packages/dask/dataframe/utils.py:367: FutureWarning: pandas.Float64Index is deprecated and will be removed from pandas in a future version. Use pandas.Index with the appropriate dtype instead.\n",
      "  _numeric_index_types = (pd.Int64Index, pd.Float64Index, pd.UInt64Index)\n",
      "/Users/seb/mambaforge/envs/ecg/lib/python3.11/site-packages/dask/dataframe/utils.py:367: FutureWarning: pandas.UInt64Index is deprecated and will be removed from pandas in a future version. Use pandas.Index with the appropriate dtype instead.\n",
      "  _numeric_index_types = (pd.Int64Index, pd.Float64Index, pd.UInt64Index)\n",
      "/Users/seb/mambaforge/envs/ecg/lib/python3.11/site-packages/dask/dataframe/utils.py:367: FutureWarning: pandas.Int64Index is deprecated and will be removed from pandas in a future version. Use pandas.Index with the appropriate dtype instead.\n",
      "  _numeric_index_types = (pd.Int64Index, pd.Float64Index, pd.UInt64Index)\n",
      "/Users/seb/mambaforge/envs/ecg/lib/python3.11/site-packages/dask/dataframe/utils.py:367: FutureWarning: pandas.Float64Index is deprecated and will be removed from pandas in a future version. Use pandas.Index with the appropriate dtype instead.\n",
      "  _numeric_index_types = (pd.Int64Index, pd.Float64Index, pd.UInt64Index)\n",
      "/Users/seb/mambaforge/envs/ecg/lib/python3.11/site-packages/dask/dataframe/utils.py:367: FutureWarning: pandas.UInt64Index is deprecated and will be removed from pandas in a future version. Use pandas.Index with the appropriate dtype instead.\n",
      "  _numeric_index_types = (pd.Int64Index, pd.Float64Index, pd.UInt64Index)\n",
      "/Users/seb/mambaforge/envs/ecg/lib/python3.11/site-packages/dask/dataframe/utils.py:367: FutureWarning: pandas.Int64Index is deprecated and will be removed from pandas in a future version. Use pandas.Index with the appropriate dtype instead.\n",
      "  _numeric_index_types = (pd.Int64Index, pd.Float64Index, pd.UInt64Index)\n",
      "/Users/seb/mambaforge/envs/ecg/lib/python3.11/site-packages/dask/dataframe/utils.py:367: FutureWarning: pandas.Float64Index is deprecated and will be removed from pandas in a future version. Use pandas.Index with the appropriate dtype instead.\n",
      "  _numeric_index_types = (pd.Int64Index, pd.Float64Index, pd.UInt64Index)\n",
      "/Users/seb/mambaforge/envs/ecg/lib/python3.11/site-packages/dask/dataframe/utils.py:367: FutureWarning: pandas.UInt64Index is deprecated and will be removed from pandas in a future version. Use pandas.Index with the appropriate dtype instead.\n",
      "  _numeric_index_types = (pd.Int64Index, pd.Float64Index, pd.UInt64Index)\n",
      "Feature Extraction: 100%|██████████| 25/25 [00:07<00:00,  3.29it/s]\n"
     ]
    }
   ],
   "source": [
    "extracted_features = extract_features(timeseries, column_id=\"Point_Number\", column_sort=\"time\")"
   ]
  },
  {
   "cell_type": "code",
   "execution_count": 11,
   "metadata": {},
   "outputs": [
    {
     "name": "stdout",
     "output_type": "stream",
     "text": [
      "Number of points:  1329\n",
      "Number of extracted features:  783\n"
     ]
    }
   ],
   "source": [
    "print('Number of points: ', len(point_numbers))\n",
    "print('Number of extracted features: ', len(list(extracted_features.columns)))"
   ]
  },
  {
   "cell_type": "markdown",
   "metadata": {},
   "source": [
    "### Select relevant features"
   ]
  },
  {
   "cell_type": "code",
   "execution_count": 12,
   "metadata": {},
   "outputs": [
    {
     "name": "stderr",
     "output_type": "stream",
     "text": [
      "/Users/seb/mambaforge/envs/ecg/lib/python3.11/site-packages/tsfresh/utilities/dataframe_functions.py:198: RuntimeWarning: The columns ['signal_data__fft_coefficient__attr_\"real\"__coeff_70'\n",
      " 'signal_data__fft_coefficient__attr_\"real\"__coeff_71'\n",
      " 'signal_data__fft_coefficient__attr_\"real\"__coeff_72'\n",
      " 'signal_data__fft_coefficient__attr_\"real\"__coeff_73'\n",
      " 'signal_data__fft_coefficient__attr_\"real\"__coeff_74'\n",
      " 'signal_data__fft_coefficient__attr_\"real\"__coeff_75'\n",
      " 'signal_data__fft_coefficient__attr_\"real\"__coeff_76'\n",
      " 'signal_data__fft_coefficient__attr_\"real\"__coeff_77'\n",
      " 'signal_data__fft_coefficient__attr_\"real\"__coeff_78'\n",
      " 'signal_data__fft_coefficient__attr_\"real\"__coeff_79'\n",
      " 'signal_data__fft_coefficient__attr_\"real\"__coeff_80'\n",
      " 'signal_data__fft_coefficient__attr_\"real\"__coeff_81'\n",
      " 'signal_data__fft_coefficient__attr_\"real\"__coeff_82'\n",
      " 'signal_data__fft_coefficient__attr_\"real\"__coeff_83'\n",
      " 'signal_data__fft_coefficient__attr_\"real\"__coeff_84'\n",
      " 'signal_data__fft_coefficient__attr_\"real\"__coeff_85'\n",
      " 'signal_data__fft_coefficient__attr_\"real\"__coeff_86'\n",
      " 'signal_data__fft_coefficient__attr_\"real\"__coeff_87'\n",
      " 'signal_data__fft_coefficient__attr_\"real\"__coeff_88'\n",
      " 'signal_data__fft_coefficient__attr_\"real\"__coeff_89'\n",
      " 'signal_data__fft_coefficient__attr_\"real\"__coeff_90'\n",
      " 'signal_data__fft_coefficient__attr_\"real\"__coeff_91'\n",
      " 'signal_data__fft_coefficient__attr_\"real\"__coeff_92'\n",
      " 'signal_data__fft_coefficient__attr_\"real\"__coeff_93'\n",
      " 'signal_data__fft_coefficient__attr_\"real\"__coeff_94'\n",
      " 'signal_data__fft_coefficient__attr_\"real\"__coeff_95'\n",
      " 'signal_data__fft_coefficient__attr_\"real\"__coeff_96'\n",
      " 'signal_data__fft_coefficient__attr_\"real\"__coeff_97'\n",
      " 'signal_data__fft_coefficient__attr_\"real\"__coeff_98'\n",
      " 'signal_data__fft_coefficient__attr_\"real\"__coeff_99'\n",
      " 'signal_data__fft_coefficient__attr_\"imag\"__coeff_70'\n",
      " 'signal_data__fft_coefficient__attr_\"imag\"__coeff_71'\n",
      " 'signal_data__fft_coefficient__attr_\"imag\"__coeff_72'\n",
      " 'signal_data__fft_coefficient__attr_\"imag\"__coeff_73'\n",
      " 'signal_data__fft_coefficient__attr_\"imag\"__coeff_74'\n",
      " 'signal_data__fft_coefficient__attr_\"imag\"__coeff_75'\n",
      " 'signal_data__fft_coefficient__attr_\"imag\"__coeff_76'\n",
      " 'signal_data__fft_coefficient__attr_\"imag\"__coeff_77'\n",
      " 'signal_data__fft_coefficient__attr_\"imag\"__coeff_78'\n",
      " 'signal_data__fft_coefficient__attr_\"imag\"__coeff_79'\n",
      " 'signal_data__fft_coefficient__attr_\"imag\"__coeff_80'\n",
      " 'signal_data__fft_coefficient__attr_\"imag\"__coeff_81'\n",
      " 'signal_data__fft_coefficient__attr_\"imag\"__coeff_82'\n",
      " 'signal_data__fft_coefficient__attr_\"imag\"__coeff_83'\n",
      " 'signal_data__fft_coefficient__attr_\"imag\"__coeff_84'\n",
      " 'signal_data__fft_coefficient__attr_\"imag\"__coeff_85'\n",
      " 'signal_data__fft_coefficient__attr_\"imag\"__coeff_86'\n",
      " 'signal_data__fft_coefficient__attr_\"imag\"__coeff_87'\n",
      " 'signal_data__fft_coefficient__attr_\"imag\"__coeff_88'\n",
      " 'signal_data__fft_coefficient__attr_\"imag\"__coeff_89'\n",
      " 'signal_data__fft_coefficient__attr_\"imag\"__coeff_90'\n",
      " 'signal_data__fft_coefficient__attr_\"imag\"__coeff_91'\n",
      " 'signal_data__fft_coefficient__attr_\"imag\"__coeff_92'\n",
      " 'signal_data__fft_coefficient__attr_\"imag\"__coeff_93'\n",
      " 'signal_data__fft_coefficient__attr_\"imag\"__coeff_94'\n",
      " 'signal_data__fft_coefficient__attr_\"imag\"__coeff_95'\n",
      " 'signal_data__fft_coefficient__attr_\"imag\"__coeff_96'\n",
      " 'signal_data__fft_coefficient__attr_\"imag\"__coeff_97'\n",
      " 'signal_data__fft_coefficient__attr_\"imag\"__coeff_98'\n",
      " 'signal_data__fft_coefficient__attr_\"imag\"__coeff_99'\n",
      " 'signal_data__fft_coefficient__attr_\"abs\"__coeff_70'\n",
      " 'signal_data__fft_coefficient__attr_\"abs\"__coeff_71'\n",
      " 'signal_data__fft_coefficient__attr_\"abs\"__coeff_72'\n",
      " 'signal_data__fft_coefficient__attr_\"abs\"__coeff_73'\n",
      " 'signal_data__fft_coefficient__attr_\"abs\"__coeff_74'\n",
      " 'signal_data__fft_coefficient__attr_\"abs\"__coeff_75'\n",
      " 'signal_data__fft_coefficient__attr_\"abs\"__coeff_76'\n",
      " 'signal_data__fft_coefficient__attr_\"abs\"__coeff_77'\n",
      " 'signal_data__fft_coefficient__attr_\"abs\"__coeff_78'\n",
      " 'signal_data__fft_coefficient__attr_\"abs\"__coeff_79'\n",
      " 'signal_data__fft_coefficient__attr_\"abs\"__coeff_80'\n",
      " 'signal_data__fft_coefficient__attr_\"abs\"__coeff_81'\n",
      " 'signal_data__fft_coefficient__attr_\"abs\"__coeff_82'\n",
      " 'signal_data__fft_coefficient__attr_\"abs\"__coeff_83'\n",
      " 'signal_data__fft_coefficient__attr_\"abs\"__coeff_84'\n",
      " 'signal_data__fft_coefficient__attr_\"abs\"__coeff_85'\n",
      " 'signal_data__fft_coefficient__attr_\"abs\"__coeff_86'\n",
      " 'signal_data__fft_coefficient__attr_\"abs\"__coeff_87'\n",
      " 'signal_data__fft_coefficient__attr_\"abs\"__coeff_88'\n",
      " 'signal_data__fft_coefficient__attr_\"abs\"__coeff_89'\n",
      " 'signal_data__fft_coefficient__attr_\"abs\"__coeff_90'\n",
      " 'signal_data__fft_coefficient__attr_\"abs\"__coeff_91'\n",
      " 'signal_data__fft_coefficient__attr_\"abs\"__coeff_92'\n",
      " 'signal_data__fft_coefficient__attr_\"abs\"__coeff_93'\n",
      " 'signal_data__fft_coefficient__attr_\"abs\"__coeff_94'\n",
      " 'signal_data__fft_coefficient__attr_\"abs\"__coeff_95'\n",
      " 'signal_data__fft_coefficient__attr_\"abs\"__coeff_96'\n",
      " 'signal_data__fft_coefficient__attr_\"abs\"__coeff_97'\n",
      " 'signal_data__fft_coefficient__attr_\"abs\"__coeff_98'\n",
      " 'signal_data__fft_coefficient__attr_\"abs\"__coeff_99'\n",
      " 'signal_data__fft_coefficient__attr_\"angle\"__coeff_70'\n",
      " 'signal_data__fft_coefficient__attr_\"angle\"__coeff_71'\n",
      " 'signal_data__fft_coefficient__attr_\"angle\"__coeff_72'\n",
      " 'signal_data__fft_coefficient__attr_\"angle\"__coeff_73'\n",
      " 'signal_data__fft_coefficient__attr_\"angle\"__coeff_74'\n",
      " 'signal_data__fft_coefficient__attr_\"angle\"__coeff_75'\n",
      " 'signal_data__fft_coefficient__attr_\"angle\"__coeff_76'\n",
      " 'signal_data__fft_coefficient__attr_\"angle\"__coeff_77'\n",
      " 'signal_data__fft_coefficient__attr_\"angle\"__coeff_78'\n",
      " 'signal_data__fft_coefficient__attr_\"angle\"__coeff_79'\n",
      " 'signal_data__fft_coefficient__attr_\"angle\"__coeff_80'\n",
      " 'signal_data__fft_coefficient__attr_\"angle\"__coeff_81'\n",
      " 'signal_data__fft_coefficient__attr_\"angle\"__coeff_82'\n",
      " 'signal_data__fft_coefficient__attr_\"angle\"__coeff_83'\n",
      " 'signal_data__fft_coefficient__attr_\"angle\"__coeff_84'\n",
      " 'signal_data__fft_coefficient__attr_\"angle\"__coeff_85'\n",
      " 'signal_data__fft_coefficient__attr_\"angle\"__coeff_86'\n",
      " 'signal_data__fft_coefficient__attr_\"angle\"__coeff_87'\n",
      " 'signal_data__fft_coefficient__attr_\"angle\"__coeff_88'\n",
      " 'signal_data__fft_coefficient__attr_\"angle\"__coeff_89'\n",
      " 'signal_data__fft_coefficient__attr_\"angle\"__coeff_90'\n",
      " 'signal_data__fft_coefficient__attr_\"angle\"__coeff_91'\n",
      " 'signal_data__fft_coefficient__attr_\"angle\"__coeff_92'\n",
      " 'signal_data__fft_coefficient__attr_\"angle\"__coeff_93'\n",
      " 'signal_data__fft_coefficient__attr_\"angle\"__coeff_94'\n",
      " 'signal_data__fft_coefficient__attr_\"angle\"__coeff_95'\n",
      " 'signal_data__fft_coefficient__attr_\"angle\"__coeff_96'\n",
      " 'signal_data__fft_coefficient__attr_\"angle\"__coeff_97'\n",
      " 'signal_data__fft_coefficient__attr_\"angle\"__coeff_98'\n",
      " 'signal_data__fft_coefficient__attr_\"angle\"__coeff_99'\n",
      " 'signal_data__query_similarity_count__query_None__threshold_0.0'] did not have any finite values. Filling with zeros.\n",
      "  warnings.warn(\n",
      "/Users/seb/mambaforge/envs/ecg/lib/python3.11/site-packages/dask/dataframe/utils.py:367: FutureWarning: pandas.Int64Index is deprecated and will be removed from pandas in a future version. Use pandas.Index with the appropriate dtype instead.\n",
      "  _numeric_index_types = (pd.Int64Index, pd.Float64Index, pd.UInt64Index)\n",
      "/Users/seb/mambaforge/envs/ecg/lib/python3.11/site-packages/dask/dataframe/utils.py:367: FutureWarning: pandas.Float64Index is deprecated and will be removed from pandas in a future version. Use pandas.Index with the appropriate dtype instead.\n",
      "  _numeric_index_types = (pd.Int64Index, pd.Float64Index, pd.UInt64Index)\n",
      "/Users/seb/mambaforge/envs/ecg/lib/python3.11/site-packages/dask/dataframe/utils.py:367: FutureWarning: pandas.UInt64Index is deprecated and will be removed from pandas in a future version. Use pandas.Index with the appropriate dtype instead.\n",
      "  _numeric_index_types = (pd.Int64Index, pd.Float64Index, pd.UInt64Index)\n",
      "/Users/seb/mambaforge/envs/ecg/lib/python3.11/site-packages/dask/dataframe/utils.py:367: FutureWarning: pandas.Int64Index is deprecated and will be removed from pandas in a future version. Use pandas.Index with the appropriate dtype instead.\n",
      "  _numeric_index_types = (pd.Int64Index, pd.Float64Index, pd.UInt64Index)\n",
      "/Users/seb/mambaforge/envs/ecg/lib/python3.11/site-packages/dask/dataframe/utils.py:367: FutureWarning: pandas.Float64Index is deprecated and will be removed from pandas in a future version. Use pandas.Index with the appropriate dtype instead.\n",
      "  _numeric_index_types = (pd.Int64Index, pd.Float64Index, pd.UInt64Index)\n",
      "/Users/seb/mambaforge/envs/ecg/lib/python3.11/site-packages/dask/dataframe/utils.py:367: FutureWarning: pandas.UInt64Index is deprecated and will be removed from pandas in a future version. Use pandas.Index with the appropriate dtype instead.\n",
      "  _numeric_index_types = (pd.Int64Index, pd.Float64Index, pd.UInt64Index)\n",
      "/Users/seb/mambaforge/envs/ecg/lib/python3.11/site-packages/dask/dataframe/utils.py:367: FutureWarning: pandas.Int64Index is deprecated and will be removed from pandas in a future version. Use pandas.Index with the appropriate dtype instead.\n",
      "  _numeric_index_types = (pd.Int64Index, pd.Float64Index, pd.UInt64Index)\n",
      "/Users/seb/mambaforge/envs/ecg/lib/python3.11/site-packages/dask/dataframe/utils.py:367: FutureWarning: pandas.Float64Index is deprecated and will be removed from pandas in a future version. Use pandas.Index with the appropriate dtype instead.\n",
      "  _numeric_index_types = (pd.Int64Index, pd.Float64Index, pd.UInt64Index)\n",
      "/Users/seb/mambaforge/envs/ecg/lib/python3.11/site-packages/dask/dataframe/utils.py:367: FutureWarning: pandas.UInt64Index is deprecated and will be removed from pandas in a future version. Use pandas.Index with the appropriate dtype instead.\n",
      "  _numeric_index_types = (pd.Int64Index, pd.Float64Index, pd.UInt64Index)\n",
      "/Users/seb/mambaforge/envs/ecg/lib/python3.11/site-packages/dask/dataframe/utils.py:367: FutureWarning: pandas.Int64Index is deprecated and will be removed from pandas in a future version. Use pandas.Index with the appropriate dtype instead.\n",
      "  _numeric_index_types = (pd.Int64Index, pd.Float64Index, pd.UInt64Index)\n",
      "/Users/seb/mambaforge/envs/ecg/lib/python3.11/site-packages/dask/dataframe/utils.py:367: FutureWarning: pandas.Float64Index is deprecated and will be removed from pandas in a future version. Use pandas.Index with the appropriate dtype instead.\n",
      "  _numeric_index_types = (pd.Int64Index, pd.Float64Index, pd.UInt64Index)\n",
      "/Users/seb/mambaforge/envs/ecg/lib/python3.11/site-packages/dask/dataframe/utils.py:367: FutureWarning: pandas.UInt64Index is deprecated and will be removed from pandas in a future version. Use pandas.Index with the appropriate dtype instead.\n",
      "  _numeric_index_types = (pd.Int64Index, pd.Float64Index, pd.UInt64Index)\n",
      "/Users/seb/mambaforge/envs/ecg/lib/python3.11/site-packages/dask/dataframe/utils.py:367: FutureWarning: pandas.Int64Index is deprecated and will be removed from pandas in a future version. Use pandas.Index with the appropriate dtype instead.\n",
      "  _numeric_index_types = (pd.Int64Index, pd.Float64Index, pd.UInt64Index)\n",
      "/Users/seb/mambaforge/envs/ecg/lib/python3.11/site-packages/dask/dataframe/utils.py:367: FutureWarning: pandas.Float64Index is deprecated and will be removed from pandas in a future version. Use pandas.Index with the appropriate dtype instead.\n",
      "  _numeric_index_types = (pd.Int64Index, pd.Float64Index, pd.UInt64Index)\n",
      "/Users/seb/mambaforge/envs/ecg/lib/python3.11/site-packages/dask/dataframe/utils.py:367: FutureWarning: pandas.UInt64Index is deprecated and will be removed from pandas in a future version. Use pandas.Index with the appropriate dtype instead.\n",
      "  _numeric_index_types = (pd.Int64Index, pd.Float64Index, pd.UInt64Index)\n"
     ]
    },
    {
     "name": "stdout",
     "output_type": "stream",
     "text": [
      "Found 123 relevant features\n"
     ]
    }
   ],
   "source": [
    "impute(extracted_features)\n",
    "features_relevant = select_features(extracted_features, y)\n",
    "print(f'Found {len(features_relevant.columns)} relevant features')"
   ]
  },
  {
   "cell_type": "code",
   "execution_count": 13,
   "metadata": {},
   "outputs": [],
   "source": [
    "# save to csv\n",
    "os.makedirs(outpath, exist_ok=True)\n",
    "fname = 'features_relevant_scar_S18_SR.csv'\n",
    "features_relevant.to_csv(os.path.join(outpath, fname))"
   ]
  },
  {
   "cell_type": "markdown",
   "metadata": {},
   "source": [
    "### Generate feature descriptions"
   ]
  },
  {
   "cell_type": "code",
   "execution_count": 14,
   "metadata": {},
   "outputs": [],
   "source": [
    "# add feature explainer\n",
    "from tsfresh.feature_extraction import feature_calculators\n",
    "# get all functions of feature_calculators\n",
    "all_functions = dir(feature_calculators)\n",
    "# get description  for each function\n",
    "descriptions = {}\n",
    "for function in all_functions:\n",
    "    if function.startswith('_'):\n",
    "        continue\n",
    "    desc = feature_calculators.__dict__[function].__doc__\n",
    "    if desc:\n",
    "        try:\n",
    "            desc = desc.split('\\n')[1]\n",
    "            desc = desc.strip()\n",
    "        except:\n",
    "            pass\n",
    "        descriptions[function] = desc\n",
    "\n",
    "# get all features that are relevant\n",
    "relevant_features = features_relevant.columns\n",
    "\n",
    "# get descriptions for all relevant features\n",
    "relevant_features_desc = {}\n",
    "for feature in relevant_features:\n",
    "    feature = feature.split('__')[1]\n",
    "    if feature in descriptions:\n",
    "        relevant_features_desc[feature] = descriptions[feature]\n",
    "    else:\n",
    "        relevant_features_desc[feature] = 'No description found'\n",
    "\n",
    "# save dict to csv\n",
    "fname_out =os.path.join(outpath, fname.split('.')[0] + '_desc.csv')\n",
    "relevant_features_desc = pd.DataFrame(relevant_features_desc.items(), columns=['feature', 'description'])\n",
    "relevant_features_desc.to_csv(fname_out, index=False)"
   ]
  }
 ],
 "metadata": {
  "kernelspec": {
   "display_name": "ecg",
   "language": "python",
   "name": "python3"
  },
  "language_info": {
   "codemirror_mode": {
    "name": "ipython",
    "version": 3
   },
   "file_extension": ".py",
   "mimetype": "text/x-python",
   "name": "python",
   "nbconvert_exporter": "python",
   "pygments_lexer": "ipython3",
   "version": "3.11.7"
  },
  "orig_nbformat": 4
 },
 "nbformat": 4,
 "nbformat_minor": 2
}
